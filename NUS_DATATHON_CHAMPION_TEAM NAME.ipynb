{
 "cells": [
  {
   "cell_type": "markdown",
   "metadata": {},
   "source": [
    "##### The cell below is for you to keep track of the libraries used and install those libraries quickly\n",
    "##### Ensure that the proper library names are used and the syntax of `%pip install PACKAGE_NAME` is followed"
   ]
  },
  {
   "cell_type": "code",
   "execution_count": 32,
   "metadata": {},
   "outputs": [
    {
     "name": "stderr",
     "output_type": "stream",
     "text": [
      "3091.64s - pydevd: Sending message related to process being replaced timed-out after 5 seconds\n"
     ]
    },
    {
     "name": "stdout",
     "output_type": "stream",
     "text": [
      "Defaulting to user installation because normal site-packages is not writeable\n",
      "Collecting statsmodels\n",
      "  Downloading statsmodels-0.14.1-cp39-cp39-macosx_11_0_arm64.whl (10.1 MB)\n",
      "\u001b[K     |████████████████████████████████| 10.1 MB 2.7 MB/s eta 0:00:01    |█████████████████████▌          | 6.8 MB 2.5 MB/s eta 0:00:02\n",
      "\u001b[?25hRequirement already satisfied: pandas!=2.1.0,>=1.0 in /Users/jirawan/Library/Python/3.9/lib/python/site-packages (from statsmodels) (2.2.0)\n",
      "Collecting scipy!=1.9.2,>=1.4\n",
      "  Downloading scipy-1.12.0-cp39-cp39-macosx_12_0_arm64.whl (31.4 MB)\n",
      "\u001b[K     |████████████████████████████████| 31.4 MB 14.0 MB/s eta 0:00:01\n",
      "\u001b[?25hCollecting patsy>=0.5.4\n",
      "  Downloading patsy-0.5.6-py2.py3-none-any.whl (233 kB)\n",
      "\u001b[K     |████████████████████████████████| 233 kB 8.8 MB/s eta 0:00:01\n",
      "\u001b[?25hRequirement already satisfied: packaging>=21.3 in /Users/jirawan/Library/Python/3.9/lib/python/site-packages (from statsmodels) (23.2)\n",
      "Requirement already satisfied: numpy<2,>=1.18 in /Users/jirawan/Library/Python/3.9/lib/python/site-packages (from statsmodels) (1.26.3)\n",
      "Requirement already satisfied: tzdata>=2022.7 in /Users/jirawan/Library/Python/3.9/lib/python/site-packages (from pandas!=2.1.0,>=1.0->statsmodels) (2023.4)\n",
      "Requirement already satisfied: pytz>=2020.1 in /Users/jirawan/Library/Python/3.9/lib/python/site-packages (from pandas!=2.1.0,>=1.0->statsmodels) (2023.3.post1)\n",
      "Requirement already satisfied: python-dateutil>=2.8.2 in /Users/jirawan/Library/Python/3.9/lib/python/site-packages (from pandas!=2.1.0,>=1.0->statsmodels) (2.8.2)\n",
      "Requirement already satisfied: six in /Library/Developer/CommandLineTools/Library/Frameworks/Python3.framework/Versions/3.9/lib/python3.9/site-packages (from patsy>=0.5.4->statsmodels) (1.15.0)\n",
      "Installing collected packages: scipy, patsy, statsmodels\n",
      "Successfully installed patsy-0.5.6 scipy-1.12.0 statsmodels-0.14.1\n",
      "\u001b[33mWARNING: You are using pip version 21.2.4; however, version 23.3.2 is available.\n",
      "You should consider upgrading via the '/Library/Developer/CommandLineTools/usr/bin/python3 -m pip install --upgrade pip' command.\u001b[0m\n",
      "Note: you may need to restart the kernel to use updated packages.\n"
     ]
    }
   ],
   "source": [
    "#%pip install pandas \n",
    "#%pip install matplotlib\n",
    "%pip install statsmodels\n",
    "# add commented pip installation lines for packages used as shown above for ease of testing\n",
    "# the line should be of the format %pip install PACKAGE_NAME "
   ]
  },
  {
   "cell_type": "markdown",
   "metadata": {},
   "source": [
    "## **DO NOT CHANGE** the filepath variable\n",
    "##### Instead, create a folder named 'data' in your current working directory and \n",
    "##### have the .csv file inside that. A relative path *must* be used when loading data into pandas"
   ]
  },
  {
   "cell_type": "code",
   "execution_count": 58,
   "metadata": {},
   "outputs": [],
   "source": [
    "# Can have as many cells as you want for code\n",
    "import pandas as pd\n",
    "import statsmodels.formula.api as sm\n",
    "filepath = \"./data/catA_train.csv\" \n",
    "# the initialised filepath MUST be a relative path to a folder named data that contains the parquet file"
   ]
  },
  {
   "cell_type": "markdown",
   "metadata": {},
   "source": [
    "### **ALL** Code for machine learning and dataset analysis should be entered below. \n",
    "##### Ensure that your code is clear and readable.\n",
    "##### Comments and Markdown notes are advised to direct attention to pieces of code you deem useful."
   ]
  },
  {
   "cell_type": "code",
   "execution_count": 59,
   "metadata": {},
   "outputs": [
    {
     "data": {
      "text/plain": [
       "433.99995676000003"
      ]
     },
     "execution_count": 59,
     "metadata": {},
     "output_type": "execute_result"
    }
   ],
   "source": [
    "###...code...###\n",
    "df = pd.read_csv(filepath)\n",
    "df.head\n",
    "df.shape\n",
    "\n",
    "# check if global ultimate company = domestic ultimate company means domestic sale = global sale\n",
    "a = df.loc[df['Global Ultimate Company'] == df['Domestic Ultimate Company']] \n",
    "b = a.loc[df['Sales (Domestic Ultimate Total USD)'] != df['Sales (Global Ultimate Total USD)']]\n",
    "\n",
    "a.shape #(18566, 28) \n",
    "b.shape #(18545, 28)\n",
    "\n",
    "df['Industry'].nunique() # too many industries 580\n",
    "df['8-Digit SIC Description'].nunique() #2191\n",
    "df['8-Digit SIC Code'].nunique() #2255\n",
    "df['SIC Code'].nunique() #582\n",
    "c = df.loc[df['SIC Code']>1799]\n",
    "d = c.loc[c['SIC Code']<4000]\n",
    "\n",
    "\n",
    "df.loc[df['Entity Type']=='Independent']\n",
    "df.loc[df['Sales (Domestic Ultimate Total USD)'] > df['Sales (Global Ultimate Total USD)']] #2675\n",
    "\n",
    "df.shape\n",
    "\n",
    "29182 *  0.01487218\n",
    "\n"
   ]
  },
  {
   "cell_type": "code",
   "execution_count": 60,
   "metadata": {},
   "outputs": [],
   "source": [
    "## replace the SIC Code with Sector name\n",
    "new_df = df.copy()\n",
    "\n",
    "new_df.loc[new_df['SIC Code'].between(100, 999), 'SIC Industry'] = 'Agriculture'"
   ]
  },
  {
   "cell_type": "code",
   "execution_count": 61,
   "metadata": {},
   "outputs": [
    {
     "data": {
      "text/plain": [
       "1550"
      ]
     },
     "execution_count": 61,
     "metadata": {},
     "output_type": "execute_result"
    }
   ],
   "source": [
    "## Replace missing values in Year Found by the median 2008 \n",
    "\n",
    "new_df['Year Found'].describe()\n",
    "\n",
    "new_df['Year Found'] = new_df['Year Found'].fillna(2008)\n",
    "\n",
    "\n",
    "new_df['Year Found'].describe()\n",
    "df['Year Found'].describe()\n",
    "\n",
    "len(df.loc[df['Year Found']==2008])\n",
    "len(new_df.loc[new_df['Year Found']==2008])\n",
    "\n",
    "\n"
   ]
  },
  {
   "cell_type": "code",
   "execution_count": 62,
   "metadata": {},
   "outputs": [
    {
     "name": "stdout",
     "output_type": "stream",
     "text": [
      "Axes(0.125,0.11;0.775x0.77)\n"
     ]
    },
    {
     "data": {
      "text/html": [
       "<div>\n",
       "<style scoped>\n",
       "    .dataframe tbody tr th:only-of-type {\n",
       "        vertical-align: middle;\n",
       "    }\n",
       "\n",
       "    .dataframe tbody tr th {\n",
       "        vertical-align: top;\n",
       "    }\n",
       "\n",
       "    .dataframe thead th {\n",
       "        text-align: right;\n",
       "    }\n",
       "</style>\n",
       "<table border=\"1\" class=\"dataframe\">\n",
       "  <thead>\n",
       "    <tr style=\"text-align: right;\">\n",
       "      <th></th>\n",
       "      <th>Employees (Single Site)</th>\n",
       "      <th>Employees (Domestic Ultimate Total)</th>\n",
       "    </tr>\n",
       "  </thead>\n",
       "  <tbody>\n",
       "    <tr>\n",
       "      <th>10</th>\n",
       "      <td>1.0</td>\n",
       "      <td>NaN</td>\n",
       "    </tr>\n",
       "    <tr>\n",
       "      <th>177</th>\n",
       "      <td>1.0</td>\n",
       "      <td>NaN</td>\n",
       "    </tr>\n",
       "    <tr>\n",
       "      <th>569</th>\n",
       "      <td>20.0</td>\n",
       "      <td>NaN</td>\n",
       "    </tr>\n",
       "    <tr>\n",
       "      <th>798</th>\n",
       "      <td>25.0</td>\n",
       "      <td>NaN</td>\n",
       "    </tr>\n",
       "    <tr>\n",
       "      <th>1138</th>\n",
       "      <td>12.0</td>\n",
       "      <td>NaN</td>\n",
       "    </tr>\n",
       "    <tr>\n",
       "      <th>...</th>\n",
       "      <td>...</td>\n",
       "      <td>...</td>\n",
       "    </tr>\n",
       "    <tr>\n",
       "      <th>27875</th>\n",
       "      <td>150.0</td>\n",
       "      <td>NaN</td>\n",
       "    </tr>\n",
       "    <tr>\n",
       "      <th>27912</th>\n",
       "      <td>15.0</td>\n",
       "      <td>NaN</td>\n",
       "    </tr>\n",
       "    <tr>\n",
       "      <th>28457</th>\n",
       "      <td>15.0</td>\n",
       "      <td>NaN</td>\n",
       "    </tr>\n",
       "    <tr>\n",
       "      <th>28770</th>\n",
       "      <td>80.0</td>\n",
       "      <td>NaN</td>\n",
       "    </tr>\n",
       "    <tr>\n",
       "      <th>28866</th>\n",
       "      <td>15.0</td>\n",
       "      <td>NaN</td>\n",
       "    </tr>\n",
       "  </tbody>\n",
       "</table>\n",
       "<p>79 rows × 2 columns</p>\n",
       "</div>"
      ],
      "text/plain": [
       "       Employees (Single Site)  Employees (Domestic Ultimate Total)\n",
       "10                         1.0                                  NaN\n",
       "177                        1.0                                  NaN\n",
       "569                       20.0                                  NaN\n",
       "798                       25.0                                  NaN\n",
       "1138                      12.0                                  NaN\n",
       "...                        ...                                  ...\n",
       "27875                    150.0                                  NaN\n",
       "27912                     15.0                                  NaN\n",
       "28457                     15.0                                  NaN\n",
       "28770                     80.0                                  NaN\n",
       "28866                     15.0                                  NaN\n",
       "\n",
       "[79 rows x 2 columns]"
      ]
     },
     "execution_count": 62,
     "metadata": {},
     "output_type": "execute_result"
    },
    {
     "data": {
      "image/png": "[encoded data removed]",
      "text/plain": [
       "<Figure size 640x480 with 1 Axes>"
      ]
     },
     "metadata": {},
     "output_type": "display_data"
    }
   ],
   "source": [
    "## Replace missing values in Employees (Domestic Ultimate Total) with mean \n",
    "\n",
    "new_df['Employees (Domestic Ultimate Total)'].describe() #mean = 139.764182\n",
    "# new_df.loc[new_df['Employees (Domestic Ultimate Total)'] == 80000]\n",
    "\n",
    "a = new_df[new_df['Employees (Domestic Ultimate Total)']<50000] ## remove the two rows where they have 80000 workers\n",
    "\n",
    "a['Employees (Domestic Ultimate Total)'].describe() #mean = 134.275695\n",
    "\n",
    "print(df.plot.scatter(x = 'Employees (Domestic Ultimate Total)', y = 'Employees (Single Site)'))\n",
    "\n",
    "new_df.loc[new_df['Employees (Domestic Ultimate Total)'].isna()][['Employees (Single Site)','Employees (Domestic Ultimate Total)']]\n",
    "\n",
    "\n",
    "\n",
    "\n"
   ]
  },
  {
   "cell_type": "code",
   "execution_count": 63,
   "metadata": {},
   "outputs": [
    {
     "name": "stdout",
     "output_type": "stream",
     "text": [
      "                                     Year Found  \\\n",
      "Year Found                             1.000000   \n",
      "Sales (Domestic Ultimate Total USD)    0.014523   \n",
      "\n",
      "                                     Sales (Domestic Ultimate Total USD)  \n",
      "Year Found                                                      0.014523  \n",
      "Sales (Domestic Ultimate Total USD)                             1.000000  \n"
     ]
    },
    {
     "data": {
      "text/html": [
       "<div>\n",
       "<style scoped>\n",
       "    .dataframe tbody tr th:only-of-type {\n",
       "        vertical-align: middle;\n",
       "    }\n",
       "\n",
       "    .dataframe tbody tr th {\n",
       "        vertical-align: top;\n",
       "    }\n",
       "\n",
       "    .dataframe thead th {\n",
       "        text-align: right;\n",
       "    }\n",
       "</style>\n",
       "<table border=\"1\" class=\"dataframe\">\n",
       "  <thead>\n",
       "    <tr style=\"text-align: right;\">\n",
       "      <th></th>\n",
       "      <th>Employees (Domestic Ultimate Total)</th>\n",
       "      <th>Employees (Single Site)</th>\n",
       "    </tr>\n",
       "  </thead>\n",
       "  <tbody>\n",
       "    <tr>\n",
       "      <th>Employees (Domestic Ultimate Total)</th>\n",
       "      <td>1.000000</td>\n",
       "      <td>0.139117</td>\n",
       "    </tr>\n",
       "    <tr>\n",
       "      <th>Employees (Single Site)</th>\n",
       "      <td>0.139117</td>\n",
       "      <td>1.000000</td>\n",
       "    </tr>\n",
       "  </tbody>\n",
       "</table>\n",
       "</div>"
      ],
      "text/plain": [
       "                                     Employees (Domestic Ultimate Total)  \\\n",
       "Employees (Domestic Ultimate Total)                             1.000000   \n",
       "Employees (Single Site)                                         0.139117   \n",
       "\n",
       "                                     Employees (Single Site)  \n",
       "Employees (Domestic Ultimate Total)                 0.139117  \n",
       "Employees (Single Site)                             1.000000  "
      ]
     },
     "execution_count": 63,
     "metadata": {},
     "output_type": "execute_result"
    }
   ],
   "source": [
    "print(df[['Year Found', 'Sales (Domestic Ultimate Total USD)']].corr())\n",
    "\n",
    "df[['Employees (Domestic Ultimate Total)', 'Employees (Single Site)']].corr()\n"
   ]
  },
  {
   "cell_type": "code",
   "execution_count": 65,
   "metadata": {},
   "outputs": [
    {
     "data": {
      "text/html": [
       "<div>\n",
       "<style scoped>\n",
       "    .dataframe tbody tr th:only-of-type {\n",
       "        vertical-align: middle;\n",
       "    }\n",
       "\n",
       "    .dataframe tbody tr th {\n",
       "        vertical-align: top;\n",
       "    }\n",
       "\n",
       "    .dataframe thead th {\n",
       "        text-align: right;\n",
       "    }\n",
       "</style>\n",
       "<table border=\"1\" class=\"dataframe\">\n",
       "  <thead>\n",
       "    <tr style=\"text-align: right;\">\n",
       "      <th></th>\n",
       "      <th>Employees (Single Site)</th>\n",
       "      <th>Employees (Domestic Ultimate Total)</th>\n",
       "    </tr>\n",
       "  </thead>\n",
       "  <tbody>\n",
       "    <tr>\n",
       "      <th>7727</th>\n",
       "      <td>NaN</td>\n",
       "      <td>NaN</td>\n",
       "    </tr>\n",
       "    <tr>\n",
       "      <th>10768</th>\n",
       "      <td>NaN</td>\n",
       "      <td>NaN</td>\n",
       "    </tr>\n",
       "    <tr>\n",
       "      <th>16455</th>\n",
       "      <td>NaN</td>\n",
       "      <td>NaN</td>\n",
       "    </tr>\n",
       "    <tr>\n",
       "      <th>20822</th>\n",
       "      <td>NaN</td>\n",
       "      <td>NaN</td>\n",
       "    </tr>\n",
       "    <tr>\n",
       "      <th>22660</th>\n",
       "      <td>NaN</td>\n",
       "      <td>NaN</td>\n",
       "    </tr>\n",
       "  </tbody>\n",
       "</table>\n",
       "</div>"
      ],
      "text/plain": [
       "       Employees (Single Site)  Employees (Domestic Ultimate Total)\n",
       "7727                       NaN                                  NaN\n",
       "10768                      NaN                                  NaN\n",
       "16455                      NaN                                  NaN\n",
       "20822                      NaN                                  NaN\n",
       "22660                      NaN                                  NaN"
      ]
     },
     "execution_count": 65,
     "metadata": {},
     "output_type": "execute_result"
    }
   ],
   "source": [
    "## Run OLS on Employees (Domestic Ultimate Total) using Emplyees (Single Site)\n",
    "result = sm.ols(formula=\"df['Employees (Domestic Ultimate Total)'] ~ df['Employees (Single Site)']\", data=df).fit()\n",
    "#print(result.summary())\n",
    "# the result is significant, so can replace missing values with Employees (Single Site)\n",
    "\n",
    "new_df['Employees (Domestic Ultimate Total)']= new_df['Employees (Domestic Ultimate Total)'].fillna(new_df['Employees (Single Site)'])\n",
    "\n",
    "# only five rows where we cannot replace with Employees (Single Site) -> remove these rows? \n",
    "new_df.loc[new_df['Employees (Domestic Ultimate Total)'].isna()][['Employees (Single Site)','Employees (Domestic Ultimate Total)']]  \n"
   ]
  },
  {
   "cell_type": "code",
   "execution_count": 48,
   "metadata": {},
   "outputs": [
    {
     "ename": "KeyError",
     "evalue": "\"['Industrys'] not in index\"",
     "output_type": "error",
     "traceback": [
      "\u001b[0;31m---------------------------------------------------------------------------\u001b[0m",
      "\u001b[0;31mKeyError\u001b[0m                                  Traceback (most recent call last)",
      "\u001b[1;32m/Users/jirawan/Documents/NUS 23:24/Sem 2/SDS2/NUS-SDS-Datathon-Champion/NUS_DATATHON_CHAMPION_TEAM NAME.ipynb Cell 12\u001b[0m line \u001b[0;36m2\n\u001b[1;32m      <a href='vscode-notebook-cell:/Users/jirawan/Documents/NUS%2023%3A24/Sem%202/SDS2/NUS-SDS-Datathon-Champion/NUS_DATATHON_CHAMPION_TEAM%20NAME.ipynb#X23sZmlsZQ%3D%3D?line=0'>1</a>\u001b[0m \u001b[39m# barplot of sales(domestic) vs industrys\u001b[39;00m\n\u001b[0;32m----> <a href='vscode-notebook-cell:/Users/jirawan/Documents/NUS%2023%3A24/Sem%202/SDS2/NUS-SDS-Datathon-Champion/NUS_DATATHON_CHAMPION_TEAM%20NAME.ipynb#X23sZmlsZQ%3D%3D?line=1'>2</a>\u001b[0m new_df\u001b[39m.\u001b[39;49mplot\u001b[39m.\u001b[39;49mbox(by \u001b[39m=\u001b[39;49m \u001b[39m'\u001b[39;49m\u001b[39mIndustrys\u001b[39;49m\u001b[39m'\u001b[39;49m,column \u001b[39m=\u001b[39;49m \u001b[39m'\u001b[39;49m\u001b[39mSales (Domestic Ultimate Total USD)\u001b[39;49m\u001b[39m'\u001b[39;49m)\n\u001b[1;32m      <a href='vscode-notebook-cell:/Users/jirawan/Documents/NUS%2023%3A24/Sem%202/SDS2/NUS-SDS-Datathon-Champion/NUS_DATATHON_CHAMPION_TEAM%20NAME.ipynb#X23sZmlsZQ%3D%3D?line=2'>3</a>\u001b[0m \u001b[39m#test correlation between 'import/export status' and 'sales (domestic ultimate total)'\u001b[39;00m\n\u001b[1;32m      <a href='vscode-notebook-cell:/Users/jirawan/Documents/NUS%2023%3A24/Sem%202/SDS2/NUS-SDS-Datathon-Champion/NUS_DATATHON_CHAMPION_TEAM%20NAME.ipynb#X23sZmlsZQ%3D%3D?line=3'>4</a>\u001b[0m df_import \u001b[39m=\u001b[39m new_df\u001b[39m.\u001b[39mcopy()\n",
      "File \u001b[0;32m~/Library/Python/3.9/lib/python/site-packages/pandas/plotting/_core.py:1347\u001b[0m, in \u001b[0;36mPlotAccessor.box\u001b[0;34m(self, by, **kwargs)\u001b[0m\n\u001b[1;32m   1282\u001b[0m \u001b[39mdef\u001b[39;00m \u001b[39mbox\u001b[39m(\u001b[39mself\u001b[39m, by: IndexLabel \u001b[39m|\u001b[39m \u001b[39mNone\u001b[39;00m \u001b[39m=\u001b[39m \u001b[39mNone\u001b[39;00m, \u001b[39m*\u001b[39m\u001b[39m*\u001b[39mkwargs) \u001b[39m-\u001b[39m\u001b[39m>\u001b[39m PlotAccessor:\n\u001b[1;32m   1283\u001b[0m \u001b[39m    \u001b[39m\u001b[39mr\u001b[39m\u001b[39m\"\"\"\u001b[39;00m\n\u001b[1;32m   1284\u001b[0m \u001b[39m    Make a box plot of the DataFrame columns.\u001b[39;00m\n\u001b[1;32m   1285\u001b[0m \n\u001b[0;32m   (...)\u001b[0m\n\u001b[1;32m   1345\u001b[0m \u001b[39m        >>> ax = df.plot.box(column=\"age\", by=\"gender\", figsize=(10, 8))\u001b[39;00m\n\u001b[1;32m   1346\u001b[0m \u001b[39m    \"\"\"\u001b[39;00m\n\u001b[0;32m-> 1347\u001b[0m     \u001b[39mreturn\u001b[39;00m \u001b[39mself\u001b[39;49m(kind\u001b[39m=\u001b[39;49m\u001b[39m\"\u001b[39;49m\u001b[39mbox\u001b[39;49m\u001b[39m\"\u001b[39;49m, by\u001b[39m=\u001b[39;49mby, \u001b[39m*\u001b[39;49m\u001b[39m*\u001b[39;49mkwargs)\n",
      "File \u001b[0;32m~/Library/Python/3.9/lib/python/site-packages/pandas/plotting/_core.py:1030\u001b[0m, in \u001b[0;36mPlotAccessor.__call__\u001b[0;34m(self, *args, **kwargs)\u001b[0m\n\u001b[1;32m   1027\u001b[0m             label_name \u001b[39m=\u001b[39m label_kw \u001b[39mor\u001b[39;00m data\u001b[39m.\u001b[39mcolumns\n\u001b[1;32m   1028\u001b[0m             data\u001b[39m.\u001b[39mcolumns \u001b[39m=\u001b[39m label_name\n\u001b[0;32m-> 1030\u001b[0m \u001b[39mreturn\u001b[39;00m plot_backend\u001b[39m.\u001b[39;49mplot(data, kind\u001b[39m=\u001b[39;49mkind, \u001b[39m*\u001b[39;49m\u001b[39m*\u001b[39;49mkwargs)\n",
      "File \u001b[0;32m~/Library/Python/3.9/lib/python/site-packages/pandas/plotting/_matplotlib/__init__.py:70\u001b[0m, in \u001b[0;36mplot\u001b[0;34m(data, kind, **kwargs)\u001b[0m\n\u001b[1;32m     68\u001b[0m             ax \u001b[39m=\u001b[39m plt\u001b[39m.\u001b[39mgca()\n\u001b[1;32m     69\u001b[0m         kwargs[\u001b[39m\"\u001b[39m\u001b[39max\u001b[39m\u001b[39m\"\u001b[39m] \u001b[39m=\u001b[39m \u001b[39mgetattr\u001b[39m(ax, \u001b[39m\"\u001b[39m\u001b[39mleft_ax\u001b[39m\u001b[39m\"\u001b[39m, ax)\n\u001b[0;32m---> 70\u001b[0m plot_obj \u001b[39m=\u001b[39m PLOT_CLASSES[kind](data, \u001b[39m*\u001b[39;49m\u001b[39m*\u001b[39;49mkwargs)\n\u001b[1;32m     71\u001b[0m plot_obj\u001b[39m.\u001b[39mgenerate()\n\u001b[1;32m     72\u001b[0m plot_obj\u001b[39m.\u001b[39mdraw()\n",
      "File \u001b[0;32m~/Library/Python/3.9/lib/python/site-packages/pandas/plotting/_matplotlib/boxplot.py:85\u001b[0m, in \u001b[0;36mBoxPlot.__init__\u001b[0;34m(self, data, return_type, **kwargs)\u001b[0m\n\u001b[1;32m     83\u001b[0m \u001b[39mself\u001b[39m\u001b[39m.\u001b[39mreturn_type \u001b[39m=\u001b[39m return_type\n\u001b[1;32m     84\u001b[0m \u001b[39m# Do not call LinePlot.__init__ which may fill nan\u001b[39;00m\n\u001b[0;32m---> 85\u001b[0m MPLPlot\u001b[39m.\u001b[39;49m\u001b[39m__init__\u001b[39;49m(\u001b[39mself\u001b[39;49m, data, \u001b[39m*\u001b[39;49m\u001b[39m*\u001b[39;49mkwargs)  \u001b[39m# pylint: disable=non-parent-init-called\u001b[39;00m\n\u001b[1;32m     87\u001b[0m \u001b[39mif\u001b[39;00m \u001b[39mself\u001b[39m\u001b[39m.\u001b[39msubplots:\n\u001b[1;32m     88\u001b[0m     \u001b[39m# Disable label ax sharing. Otherwise, all subplots shows last\u001b[39;00m\n\u001b[1;32m     89\u001b[0m     \u001b[39m# column label\u001b[39;00m\n\u001b[1;32m     90\u001b[0m     \u001b[39mif\u001b[39;00m \u001b[39mself\u001b[39m\u001b[39m.\u001b[39morientation \u001b[39m==\u001b[39m \u001b[39m\"\u001b[39m\u001b[39mvertical\u001b[39m\u001b[39m\"\u001b[39m:\n",
      "File \u001b[0;32m~/Library/Python/3.9/lib/python/site-packages/pandas/plotting/_matplotlib/core.py:286\u001b[0m, in \u001b[0;36mMPLPlot.__init__\u001b[0;34m(self, data, kind, by, subplots, sharex, sharey, use_index, figsize, grid, legend, rot, ax, fig, title, xlim, ylim, xticks, yticks, xlabel, ylabel, fontsize, secondary_y, colormap, table, layout, include_bool, column, logx, logy, loglog, mark_right, stacked, label, style, **kwds)\u001b[0m\n\u001b[1;32m    283\u001b[0m \u001b[39mself\u001b[39m\u001b[39m.\u001b[39mcolor \u001b[39m=\u001b[39m \u001b[39mself\u001b[39m\u001b[39m.\u001b[39m_validate_color_args(color, \u001b[39mself\u001b[39m\u001b[39m.\u001b[39mcolormap)\n\u001b[1;32m    284\u001b[0m \u001b[39massert\u001b[39;00m \u001b[39m\"\u001b[39m\u001b[39mcolor\u001b[39m\u001b[39m\"\u001b[39m \u001b[39mnot\u001b[39;00m \u001b[39min\u001b[39;00m \u001b[39mself\u001b[39m\u001b[39m.\u001b[39mkwds\n\u001b[0;32m--> 286\u001b[0m \u001b[39mself\u001b[39m\u001b[39m.\u001b[39mdata \u001b[39m=\u001b[39m \u001b[39mself\u001b[39;49m\u001b[39m.\u001b[39;49m_ensure_frame(\u001b[39mself\u001b[39;49m\u001b[39m.\u001b[39;49mdata)\n",
      "File \u001b[0;32m~/Library/Python/3.9/lib/python/site-packages/pandas/plotting/_matplotlib/core.py:661\u001b[0m, in \u001b[0;36mMPLPlot._ensure_frame\u001b[0;34m(self, data)\u001b[0m\n\u001b[1;32m    659\u001b[0m \u001b[39melif\u001b[39;00m \u001b[39mself\u001b[39m\u001b[39m.\u001b[39m_kind \u001b[39min\u001b[39;00m (\u001b[39m\"\u001b[39m\u001b[39mhist\u001b[39m\u001b[39m\"\u001b[39m, \u001b[39m\"\u001b[39m\u001b[39mbox\u001b[39m\u001b[39m\"\u001b[39m):\n\u001b[1;32m    660\u001b[0m     cols \u001b[39m=\u001b[39m \u001b[39mself\u001b[39m\u001b[39m.\u001b[39mcolumns \u001b[39mif\u001b[39;00m \u001b[39mself\u001b[39m\u001b[39m.\u001b[39mby \u001b[39mis\u001b[39;00m \u001b[39mNone\u001b[39;00m \u001b[39melse\u001b[39;00m \u001b[39mself\u001b[39m\u001b[39m.\u001b[39mcolumns \u001b[39m+\u001b[39m \u001b[39mself\u001b[39m\u001b[39m.\u001b[39mby\n\u001b[0;32m--> 661\u001b[0m     data \u001b[39m=\u001b[39m data\u001b[39m.\u001b[39;49mloc[:, cols]\n\u001b[1;32m    662\u001b[0m \u001b[39mreturn\u001b[39;00m data\n",
      "File \u001b[0;32m~/Library/Python/3.9/lib/python/site-packages/pandas/core/indexing.py:1185\u001b[0m, in \u001b[0;36m_LocationIndexer.__getitem__\u001b[0;34m(self, key)\u001b[0m\n\u001b[1;32m   1183\u001b[0m     \u001b[39mif\u001b[39;00m \u001b[39mself\u001b[39m\u001b[39m.\u001b[39m_is_scalar_access(key):\n\u001b[1;32m   1184\u001b[0m         \u001b[39mreturn\u001b[39;00m \u001b[39mself\u001b[39m\u001b[39m.\u001b[39mobj\u001b[39m.\u001b[39m_get_value(\u001b[39m*\u001b[39mkey, takeable\u001b[39m=\u001b[39m\u001b[39mself\u001b[39m\u001b[39m.\u001b[39m_takeable)\n\u001b[0;32m-> 1185\u001b[0m     \u001b[39mreturn\u001b[39;00m \u001b[39mself\u001b[39;49m\u001b[39m.\u001b[39;49m_getitem_tuple(key)\n\u001b[1;32m   1186\u001b[0m \u001b[39melse\u001b[39;00m:\n\u001b[1;32m   1187\u001b[0m     \u001b[39m# we by definition only have the 0th axis\u001b[39;00m\n\u001b[1;32m   1188\u001b[0m     axis \u001b[39m=\u001b[39m \u001b[39mself\u001b[39m\u001b[39m.\u001b[39maxis \u001b[39mor\u001b[39;00m \u001b[39m0\u001b[39m\n",
      "File \u001b[0;32m~/Library/Python/3.9/lib/python/site-packages/pandas/core/indexing.py:1378\u001b[0m, in \u001b[0;36m_LocIndexer._getitem_tuple\u001b[0;34m(self, tup)\u001b[0m\n\u001b[1;32m   1375\u001b[0m \u001b[39mif\u001b[39;00m \u001b[39mself\u001b[39m\u001b[39m.\u001b[39m_multi_take_opportunity(tup):\n\u001b[1;32m   1376\u001b[0m     \u001b[39mreturn\u001b[39;00m \u001b[39mself\u001b[39m\u001b[39m.\u001b[39m_multi_take(tup)\n\u001b[0;32m-> 1378\u001b[0m \u001b[39mreturn\u001b[39;00m \u001b[39mself\u001b[39;49m\u001b[39m.\u001b[39;49m_getitem_tuple_same_dim(tup)\n",
      "File \u001b[0;32m~/Library/Python/3.9/lib/python/site-packages/pandas/core/indexing.py:1021\u001b[0m, in \u001b[0;36m_LocationIndexer._getitem_tuple_same_dim\u001b[0;34m(self, tup)\u001b[0m\n\u001b[1;32m   1018\u001b[0m \u001b[39mif\u001b[39;00m com\u001b[39m.\u001b[39mis_null_slice(key):\n\u001b[1;32m   1019\u001b[0m     \u001b[39mcontinue\u001b[39;00m\n\u001b[0;32m-> 1021\u001b[0m retval \u001b[39m=\u001b[39m \u001b[39mgetattr\u001b[39;49m(retval, \u001b[39mself\u001b[39;49m\u001b[39m.\u001b[39;49mname)\u001b[39m.\u001b[39;49m_getitem_axis(key, axis\u001b[39m=\u001b[39;49mi)\n\u001b[1;32m   1022\u001b[0m \u001b[39m# We should never have retval.ndim < self.ndim, as that should\u001b[39;00m\n\u001b[1;32m   1023\u001b[0m \u001b[39m#  be handled by the _getitem_lowerdim call above.\u001b[39;00m\n\u001b[1;32m   1024\u001b[0m \u001b[39massert\u001b[39;00m retval\u001b[39m.\u001b[39mndim \u001b[39m==\u001b[39m \u001b[39mself\u001b[39m\u001b[39m.\u001b[39mndim\n",
      "File \u001b[0;32m~/Library/Python/3.9/lib/python/site-packages/pandas/core/indexing.py:1421\u001b[0m, in \u001b[0;36m_LocIndexer._getitem_axis\u001b[0;34m(self, key, axis)\u001b[0m\n\u001b[1;32m   1418\u001b[0m     \u001b[39mif\u001b[39;00m \u001b[39mhasattr\u001b[39m(key, \u001b[39m\"\u001b[39m\u001b[39mndim\u001b[39m\u001b[39m\"\u001b[39m) \u001b[39mand\u001b[39;00m key\u001b[39m.\u001b[39mndim \u001b[39m>\u001b[39m \u001b[39m1\u001b[39m:\n\u001b[1;32m   1419\u001b[0m         \u001b[39mraise\u001b[39;00m \u001b[39mValueError\u001b[39;00m(\u001b[39m\"\u001b[39m\u001b[39mCannot index with multidimensional key\u001b[39m\u001b[39m\"\u001b[39m)\n\u001b[0;32m-> 1421\u001b[0m     \u001b[39mreturn\u001b[39;00m \u001b[39mself\u001b[39;49m\u001b[39m.\u001b[39;49m_getitem_iterable(key, axis\u001b[39m=\u001b[39;49maxis)\n\u001b[1;32m   1423\u001b[0m \u001b[39m# nested tuple slicing\u001b[39;00m\n\u001b[1;32m   1424\u001b[0m \u001b[39mif\u001b[39;00m is_nested_tuple(key, labels):\n",
      "File \u001b[0;32m~/Library/Python/3.9/lib/python/site-packages/pandas/core/indexing.py:1361\u001b[0m, in \u001b[0;36m_LocIndexer._getitem_iterable\u001b[0;34m(self, key, axis)\u001b[0m\n\u001b[1;32m   1358\u001b[0m \u001b[39mself\u001b[39m\u001b[39m.\u001b[39m_validate_key(key, axis)\n\u001b[1;32m   1360\u001b[0m \u001b[39m# A collection of keys\u001b[39;00m\n\u001b[0;32m-> 1361\u001b[0m keyarr, indexer \u001b[39m=\u001b[39m \u001b[39mself\u001b[39;49m\u001b[39m.\u001b[39;49m_get_listlike_indexer(key, axis)\n\u001b[1;32m   1362\u001b[0m \u001b[39mreturn\u001b[39;00m \u001b[39mself\u001b[39m\u001b[39m.\u001b[39mobj\u001b[39m.\u001b[39m_reindex_with_indexers(\n\u001b[1;32m   1363\u001b[0m     {axis: [keyarr, indexer]}, copy\u001b[39m=\u001b[39m\u001b[39mTrue\u001b[39;00m, allow_dups\u001b[39m=\u001b[39m\u001b[39mTrue\u001b[39;00m\n\u001b[1;32m   1364\u001b[0m )\n",
      "File \u001b[0;32m~/Library/Python/3.9/lib/python/site-packages/pandas/core/indexing.py:1559\u001b[0m, in \u001b[0;36m_LocIndexer._get_listlike_indexer\u001b[0;34m(self, key, axis)\u001b[0m\n\u001b[1;32m   1556\u001b[0m ax \u001b[39m=\u001b[39m \u001b[39mself\u001b[39m\u001b[39m.\u001b[39mobj\u001b[39m.\u001b[39m_get_axis(axis)\n\u001b[1;32m   1557\u001b[0m axis_name \u001b[39m=\u001b[39m \u001b[39mself\u001b[39m\u001b[39m.\u001b[39mobj\u001b[39m.\u001b[39m_get_axis_name(axis)\n\u001b[0;32m-> 1559\u001b[0m keyarr, indexer \u001b[39m=\u001b[39m ax\u001b[39m.\u001b[39;49m_get_indexer_strict(key, axis_name)\n\u001b[1;32m   1561\u001b[0m \u001b[39mreturn\u001b[39;00m keyarr, indexer\n",
      "File \u001b[0;32m~/Library/Python/3.9/lib/python/site-packages/pandas/core/indexes/base.py:6199\u001b[0m, in \u001b[0;36mIndex._get_indexer_strict\u001b[0;34m(self, key, axis_name)\u001b[0m\n\u001b[1;32m   6196\u001b[0m \u001b[39melse\u001b[39;00m:\n\u001b[1;32m   6197\u001b[0m     keyarr, indexer, new_indexer \u001b[39m=\u001b[39m \u001b[39mself\u001b[39m\u001b[39m.\u001b[39m_reindex_non_unique(keyarr)\n\u001b[0;32m-> 6199\u001b[0m \u001b[39mself\u001b[39;49m\u001b[39m.\u001b[39;49m_raise_if_missing(keyarr, indexer, axis_name)\n\u001b[1;32m   6201\u001b[0m keyarr \u001b[39m=\u001b[39m \u001b[39mself\u001b[39m\u001b[39m.\u001b[39mtake(indexer)\n\u001b[1;32m   6202\u001b[0m \u001b[39mif\u001b[39;00m \u001b[39misinstance\u001b[39m(key, Index):\n\u001b[1;32m   6203\u001b[0m     \u001b[39m# GH 42790 - Preserve name from an Index\u001b[39;00m\n",
      "File \u001b[0;32m~/Library/Python/3.9/lib/python/site-packages/pandas/core/indexes/base.py:6251\u001b[0m, in \u001b[0;36mIndex._raise_if_missing\u001b[0;34m(self, key, indexer, axis_name)\u001b[0m\n\u001b[1;32m   6248\u001b[0m     \u001b[39mraise\u001b[39;00m \u001b[39mKeyError\u001b[39;00m(\u001b[39mf\u001b[39m\u001b[39m\"\u001b[39m\u001b[39mNone of [\u001b[39m\u001b[39m{\u001b[39;00mkey\u001b[39m}\u001b[39;00m\u001b[39m] are in the [\u001b[39m\u001b[39m{\u001b[39;00maxis_name\u001b[39m}\u001b[39;00m\u001b[39m]\u001b[39m\u001b[39m\"\u001b[39m)\n\u001b[1;32m   6250\u001b[0m not_found \u001b[39m=\u001b[39m \u001b[39mlist\u001b[39m(ensure_index(key)[missing_mask\u001b[39m.\u001b[39mnonzero()[\u001b[39m0\u001b[39m]]\u001b[39m.\u001b[39munique())\n\u001b[0;32m-> 6251\u001b[0m \u001b[39mraise\u001b[39;00m \u001b[39mKeyError\u001b[39;00m(\u001b[39mf\u001b[39m\u001b[39m\"\u001b[39m\u001b[39m{\u001b[39;00mnot_found\u001b[39m}\u001b[39;00m\u001b[39m not in index\u001b[39m\u001b[39m\"\u001b[39m)\n",
      "\u001b[0;31mKeyError\u001b[0m: \"['Industrys'] not in index\""
     ]
    }
   ],
   "source": [
    "# barplot of sales(domestic) vs industrys (this is Weizhi's code, I don't have the Industrys column)\n",
    "new_df.plot.box(by = 'Industrys',column = 'Sales (Domestic Ultimate Total USD)')\n",
    "#test correlation between 'import/export status' and 'sales (domestic ultimate total)'\n",
    "df_import = new_df.copy()\n",
    "#if import/export status is NaN replace with 0, otherwise 1\n",
    "df_import['Import/Export Status']=df_import['Import/Export Status'].fillna(0).map(lambda x:0 if x==0 else 1)\n",
    "df_import[['Import/Export Status','Sales (Domestic Ultimate Total USD)']].corr()"
   ]
  },
  {
   "cell_type": "markdown",
   "metadata": {},
   "source": [
    "## The cell below is **NOT** to be removed\n",
    "##### The function is to be amended so that it accepts the given input (dataframe) and returns the required output (list). \n",
    "##### It is recommended to test the function out prior to submission\n",
    "-------------------------------------------------------------------------------------------------------------------------------\n",
    "##### The hidden_data parsed into the function below will have the same layout columns wise as the dataset *SENT* to you\n",
    "##### Thus, ensure that steps taken to modify the initial dataset to fit into the model are also carried out in the function below"
   ]
  },
  {
   "cell_type": "code",
   "execution_count": 11,
   "metadata": {},
   "outputs": [],
   "source": [
    "def testing_hidden_data(hidden_data: pd.DataFrame) -> list:\n",
    "    '''DO NOT REMOVE THIS FUNCTION.\n",
    "\n",
    "The function accepts a dataframe as input and return an iterable (list)\n",
    "of binary classes as output.\n",
    "\n",
    "The function should be coded to test on hidden data\n",
    "and should include any preprocessing functions needed for your model to perform. \n",
    "    \n",
    "All relevant code MUST be included in this function.'''\n",
    "\n",
    "    result = [] \n",
    "    return result"
   ]
  },
  {
   "cell_type": "markdown",
   "metadata": {},
   "source": [
    "##### Cell to check testing_hidden_data function"
   ]
  },
  {
   "cell_type": "code",
   "execution_count": null,
   "metadata": {},
   "outputs": [],
   "source": [
    "# This cell should output a list of predictions.\n",
    "test_df = pd.read_csv(filepath)\n",
    "test_df = test_df.drop(columns=['Sales (Domestic Ultimate Total USD)'])\n",
    "print(testing_hidden_data(test_df))"
   ]
  },
  {
   "cell_type": "markdown",
   "metadata": {},
   "source": [
    "### Please have the filename renamed and ensure that it can be run with the requirements above being met. All the best!"
   ]
  }
 ],
 "metadata": {
  "kernelspec": {
   "display_name": "Python 3",
   "language": "python",
   "name": "python3"
  },
  "language_info": {
   "codemirror_mode": {
    "name": "ipython",
    "version": 3
   },
   "file_extension": ".py",
   "mimetype": "text/x-python",
   "name": "python",
   "nbconvert_exporter": "python",
   "pygments_lexer": "ipython3",
   "version": "3.9.6"
  }
 },
 "nbformat": 4,
 "nbformat_minor": 2
}
